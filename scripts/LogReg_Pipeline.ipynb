{
 "cells": [
  {
   "cell_type": "code",
   "execution_count": 1,
   "metadata": {},
   "outputs": [],
   "source": [
    "import pandas as pd\n",
    "\n",
    "from sklearn.pipeline import Pipeline\n",
    "from sklearn.preprocessing import StandardScaler\n",
    "from sklearn.model_selection import RandomizedSearchCV, GroupKFold\n",
    "\n",
    "## Custom libraries\n",
    "import index_helpers as ih"
   ]
  },
  {
   "cell_type": "code",
   "execution_count": 2,
   "metadata": {},
   "outputs": [],
   "source": [
    "## Import, index, and split\n",
    "df = ih.read_and_merge_segmented_data()\n",
    "df = ih.index_df_by_person(df)\n",
    "df = ih.categorical_float_to_int(df)\n",
    "df = ih.categorical_to_dummy(df)\n",
    "X_train, X_val, y_train, y_val = ih.train_test_split_on_index(features = df.drop(\"Label\", axis=1),\n",
    "                                                             label = df[\"Label\"])\n",
    "\n",
    "## Modify data for GroupKFold\n",
    "groups = y_train.reset_index()['File_Name_split']\n",
    "X_train = X_train.reset_index(drop=True)\n",
    "y_train = y_train.reset_index(drop=True)"
   ]
  },
  {
   "cell_type": "code",
   "execution_count": 5,
   "metadata": {},
   "outputs": [
    {
     "name": "stderr",
     "output_type": "stream",
     "text": [
      "[Parallel(n_jobs=2)]: Using backend LokyBackend with 2 concurrent workers.\n"
     ]
    },
    {
     "name": "stdout",
     "output_type": "stream",
     "text": [
      "Fitting 10 folds for each of 50 candidates, totalling 500 fits\n"
     ]
    },
    {
     "name": "stderr",
     "output_type": "stream",
     "text": [
      "[Parallel(n_jobs=2)]: Done  46 tasks      | elapsed:   30.1s\n",
      "[Parallel(n_jobs=2)]: Done 196 tasks      | elapsed:  3.7min\n",
      "[Parallel(n_jobs=2)]: Done 446 tasks      | elapsed:  5.1min\n",
      "[Parallel(n_jobs=2)]: Done 500 out of 500 | elapsed:  5.9min finished\n"
     ]
    },
    {
     "name": "stdout",
     "output_type": "stream",
     "text": [
      "Best score:  0.5595213702921746\n",
      "Best estimator:  Pipeline(steps=[('st_scaler', StandardScaler()),\n",
      "                ('clf',\n",
      "                 LogisticRegression(C=0.5, max_iter=50, penalty='l1',\n",
      "                                    solver='saga', tol=5e-05))])\n"
     ]
    },
    {
     "name": "stderr",
     "output_type": "stream",
     "text": [
      "C:\\Users\\chris\\anaconda\\lib\\site-packages\\sklearn\\linear_model\\_sag.py:329: ConvergenceWarning: The max_iter was reached which means the coef_ did not converge\n",
      "  warnings.warn(\"The max_iter was reached which means \"\n"
     ]
    }
   ],
   "source": [
    "### Logistic regression\n",
    "from sklearn.linear_model import LogisticRegression\n",
    "\n",
    "## Make pipeline - name classifier \"clf\"\n",
    "clf_pipeline = Pipeline([(\"st_scaler\", StandardScaler()),\n",
    "                        (\"clf\", LogisticRegression())])\n",
    "\n",
    "## Use \"clf__\" in order to correctly assign parameters to the clf object\n",
    "clf_param_grid = {'clf__penalty':['l1', 'l2', 'elasticnet', 'none'],\n",
    "                  'clf__tol':[0.0003, 0.0002, 0.0001, 0.00005], \n",
    "                  'clf__C':[2.0, 1.5, 1.0, 0.5], \n",
    "                  'clf__intercept_scaling':[1], \n",
    "                  'clf__max_iter':[50],\n",
    "                 'clf__solver':['newton-cg', 'lbfgs', 'liblinear', 'sag', 'saga']}\n",
    "\n",
    "## Instantiate GroupKFold to avoid data leakage - to be passed to cv\n",
    "gkf=GroupKFold(n_splits=10)\n",
    "\n",
    "## Set up Randomized search CV\n",
    "clf_rand_auc = RandomizedSearchCV(estimator=clf_pipeline,\n",
    "                                  param_distributions=clf_param_grid,\n",
    "                                  cv=gkf, scoring='roc_auc', verbose=1, n_jobs=2, n_iter=50)\n",
    "\n",
    "## Perform Group K-Cross-validation\n",
    "clf_rand_auc.fit(X_train, y_train, groups=groups)\n",
    "\n",
    "## Print results\n",
    "print(\"Best score: \",  clf_rand_auc.best_score_)\n",
    "print(\"Best estimator: \", clf_rand_auc.best_estimator_)"
   ]
  },
  {
   "cell_type": "code",
   "execution_count": null,
   "metadata": {},
   "outputs": [],
   "source": []
  }
 ],
 "metadata": {
  "kernelspec": {
   "display_name": "Python 3",
   "language": "python",
   "name": "python3"
  },
  "language_info": {
   "codemirror_mode": {
    "name": "ipython",
    "version": 3
   },
   "file_extension": ".py",
   "mimetype": "text/x-python",
   "name": "python",
   "nbconvert_exporter": "python",
   "pygments_lexer": "ipython3",
   "version": "3.8.3"
  }
 },
 "nbformat": 4,
 "nbformat_minor": 4
}
