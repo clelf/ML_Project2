{
 "cells": [
  {
   "cell_type": "code",
   "execution_count": 1,
   "metadata": {},
   "outputs": [
    {
     "name": "stderr",
     "output_type": "stream",
     "text": [
      "C:\\Users\\Jostein\\Anaconda3\\lib\\site-packages\\dask\\dataframe\\utils.py:14: FutureWarning: pandas.util.testing is deprecated. Use the functions in the public API at pandas.testing instead.\n",
      "  import pandas.util.testing as tm\n"
     ]
    }
   ],
   "source": [
    "import pandas as pd\n",
    "import xgboost as xgb\n",
    "\n",
    "from sklearn.pipeline import Pipeline\n",
    "from sklearn.preprocessing import StandardScaler\n",
    "from sklearn.model_selection import RandomizedSearchCV, GroupKFold\n",
    "\n",
    "## Custom libraries\n",
    "import index_helpers as ih"
   ]
  },
  {
   "cell_type": "markdown",
   "metadata": {},
   "source": [
    "### Import and prep data"
   ]
  },
  {
   "cell_type": "code",
   "execution_count": 4,
   "metadata": {},
   "outputs": [],
   "source": [
    "## Import, index, and split\n",
    "df, cat_feat, num_feat, all_feat = ih.read_and_merge_segmented_data(exlude_expert=False, exclude_meta_data=False)\n",
    "df = ih.index_df_by_person(df)\n",
    "#df = ih.categorical_float_to_int(df)\n",
    "#df = ih.categorical_to_dummy(df)\n",
    "df = pd.get_dummies(df, columns=['Resp_Condition', 'Gender', 'Symptoms'])\n",
    "\n",
    "X_train, X_val, y_train, y_val = ih.train_test_split_on_index(features = df.drop(\"Label\", axis=1),\n",
    "                                                             label = df[\"Label\"])\n",
    "\n",
    "## Modify data for GroupKFold\n",
    "groups = y_train.reset_index()['File_Name_split']\n",
    "X_train = X_train.reset_index(drop=True)\n",
    "y_train = y_train.reset_index(drop=True)"
   ]
  },
  {
   "cell_type": "markdown",
   "metadata": {},
   "source": [
    "### Create pipeline and fit classifier"
   ]
  },
  {
   "cell_type": "code",
   "execution_count": 9,
   "metadata": {},
   "outputs": [
    {
     "name": "stdout",
     "output_type": "stream",
     "text": [
      "Fitting 10 folds for each of 30 candidates, totalling 300 fits\n"
     ]
    },
    {
     "name": "stderr",
     "output_type": "stream",
     "text": [
      "[Parallel(n_jobs=-1)]: Using backend LokyBackend with 4 concurrent workers.\n",
      "[Parallel(n_jobs=-1)]: Done  42 tasks      | elapsed:  9.6min\n",
      "[Parallel(n_jobs=-1)]: Done 192 tasks      | elapsed: 55.9min\n",
      "[Parallel(n_jobs=-1)]: Done 300 out of 300 | elapsed: 83.2min finished\n"
     ]
    },
    {
     "name": "stdout",
     "output_type": "stream",
     "text": [
      "Best score:  0.7057765893634381\n",
      "Best estimator:  Pipeline(steps=[('st_scaler', StandardScaler()),\n",
      "                ('clf',\n",
      "                 RandomForestClassifier(max_depth=60, min_samples_leaf=8,\n",
      "                                        min_samples_split=5,\n",
      "                                        n_estimators=1000))])\n"
     ]
    }
   ],
   "source": [
    "from sklearn.ensemble import RandomForestClassifier\n",
    "\n",
    "## Make pipeline - name classifier \"clf\"\n",
    "clf_pipeline = Pipeline([(\"st_scaler\", StandardScaler()),\n",
    "                        (\"clf\", RandomForestClassifier())])\n",
    "\n",
    "## Use \"clf__\" in order to correctly assign parameters to the clf object\n",
    "clf_param_grid = {'clf__bootstrap': [True, False],\n",
    "                  'clf__max_depth': [10, 20, 30, 40, 50, 60, 70, 80, 90, 100, None],\n",
    "                  'clf__max_features': ['auto', 'sqrt'],\n",
    "                  'clf__min_samples_leaf': [1, 2, 4, 8],\n",
    "                  'clf__min_samples_split': [2, 5, 10],\n",
    "                  'clf__n_estimators': [200, 400, 600, 800, 1000, 1200, 1400, 1600, 1800, 2000]}\n",
    "\n",
    "## Instantiate GroupKFold to avoid data leakage - to be passed to cv\n",
    "gkf=GroupKFold(n_splits=10)\n",
    "\n",
    "## Set up Randomized search CV\n",
    "clf_rand_auc = RandomizedSearchCV(estimator=clf_pipeline,\n",
    "                                  param_distributions=clf_param_grid,\n",
    "                                  cv=gkf, scoring='roc_auc', verbose=1, n_jobs=-1, n_iter=30)\n",
    "\n",
    "## Perform Group K-Cross-validation\n",
    "clf_rand_auc.fit(X_train, y_train, groups=groups)\n",
    "\n",
    "## Print results\n",
    "print(\"Best score: \",  clf_rand_auc.best_score_)\n",
    "print(\"Best estimator: \", clf_rand_auc.best_estimator_)"
   ]
  },
  {
   "cell_type": "code",
   "execution_count": null,
   "metadata": {},
   "outputs": [],
   "source": []
  }
 ],
 "metadata": {
  "kernelspec": {
   "display_name": "Python 3",
   "language": "python",
   "name": "python3"
  },
  "language_info": {
   "codemirror_mode": {
    "name": "ipython",
    "version": 3
   },
   "file_extension": ".py",
   "mimetype": "text/x-python",
   "name": "python",
   "nbconvert_exporter": "python",
   "pygments_lexer": "ipython3",
   "version": "3.7.4"
  }
 },
 "nbformat": 4,
 "nbformat_minor": 4
}
