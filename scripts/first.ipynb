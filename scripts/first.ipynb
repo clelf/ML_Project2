{
 "cells": [
  {
   "cell_type": "code",
   "execution_count": null,
   "metadata": {},
   "outputs": [],
   "source": [
    "# -*- coding: utf-8 -*-\n",
    "\"\"\"\n",
    "Created on Fri Nov 20 10:49:52 2020\n",
    "\n",
    "@author: cleme\n",
    "\"\"\"\n",
    "import numpy as np\n",
    "import pandas as pd\n",
    "from pathlib import Path\n",
    "from sklearn.metrics import roc_auc_score\n",
    "from sklearn import preprocessing\n",
    "\n",
    "\n",
    "# Import data\n",
    "#DATA_TRAIN_PATH = \"../train_data/features_no_segmentation.csv\"\n",
    "#DATA_TRAIN_PATH = r\"C:\\Users\\cleme\\Documents\\EPFL\\SV MA1\\ML\\ML_Project2\\train_data\\features_no_segmentation.csv\"\n",
    "FEATURES_PATH = Path(\"../data/features_no_segmentation.csv\")\n",
    "LABELS_PATH = Path(\"../data/labels_no_segmentation.csv\")\n",
    "coughs = pd.read_csv(FEATURES_PATH, sep=',', index_col = ['Unnamed: 0','File_Name'])\n",
    "labels = pd.read_csv(LABELS_PATH, sep=',', index_col = ['Unnamed: 0','File_Name'])"
   ]
  },
  {
   "cell_type": "code",
   "execution_count": null,
   "metadata": {
    "scrolled": true
   },
   "outputs": [],
   "source": [
    "# Have an insight\n",
    "coughs.head()\n",
    "#coughs.loc[:,'EEPD50_100':'Expert'].shape[1]\n",
    "labels.head()"
   ]
  },
  {
   "cell_type": "code",
   "execution_count": null,
   "metadata": {},
   "outputs": [],
   "source": [
    "# Check the number of undefined values -> should be 0\n",
    "coughs.isnull().sum().sum()"
   ]
  },
  {
   "cell_type": "code",
   "execution_count": null,
   "metadata": {
    "scrolled": true
   },
   "outputs": [],
   "source": [
    "### Distribution exploration before standardization (not necessary to run)\n",
    "\n",
    "%matplotlib inline\n",
    "\n",
    "import matplotlib.pyplot as plt\n",
    "\n",
    "\n",
    "nrows = 14\n",
    "ncols = 5\n",
    "fig, axes = plt.subplots(nrows, ncols)\n",
    "\n",
    "feature_id = 0\n",
    "for row in range(nrows):\n",
    "    for col in range(ncols):\n",
    "        if feature_id == 67: break\n",
    "        feature_tbp  = coughs.iloc[:,feature_id]\n",
    "        axes[row, col].hist(feature_tbp[~np.isnan(feature_tbp)], bins='auto')\n",
    "        axes[row, col].set_title('Feature: {}'.format(feature_id))\n",
    "        feature_id += 1\n",
    "    \n",
    "    \n",
    "fig.set_size_inches(19.5, 25)\n"
   ]
  },
  {
   "cell_type": "code",
   "execution_count": null,
   "metadata": {},
   "outputs": [],
   "source": [
    "### Standardization\n",
    "\n",
    "from sklearn import preprocessing\n",
    "scaler = preprocessing.StandardScaler().fit(coughs.loc[:,'EEPD50_100':'PSD_3100-3700'])\n",
    "new = pd.DataFrame(scaler.transform(coughs.loc[:,'EEPD50_100':'PSD_3100-3700']), index=(coughs.loc[:,'EEPD50_100':'PSD_3100-3700']).index, columns=(coughs.loc[:,'EEPD50_100':'PSD_3100-3700']).columns)"
   ]
  },
  {
   "cell_type": "code",
   "execution_count": null,
   "metadata": {},
   "outputs": [],
   "source": [
    "coughs_std = pd.merge(new, coughs[['Expert', 'Age', 'Gender', 'Resp_Condition', 'Symptoms']], left_index=True, right_index=True)"
   ]
  },
  {
   "cell_type": "code",
   "execution_count": null,
   "metadata": {},
   "outputs": [],
   "source": [
    "coughs_std.shape"
   ]
  },
  {
   "cell_type": "code",
   "execution_count": null,
   "metadata": {},
   "outputs": [],
   "source": [
    "### Distribution exploration after standardization (not necessary to run)\n",
    "\n",
    "nrows = 15\n",
    "ncols = 5\n",
    "fig, axes = plt.subplots(nrows, ncols)\n",
    "\n",
    "feature_id = 0\n",
    "for row in range(nrows):\n",
    "    for col in range(ncols):\n",
    "        if feature_id == 67: break\n",
    "        feature_tbp  = coughs_std.iloc[:,feature_id]\n",
    "        axes[row, col].hist(feature_tbp[~np.isnan(feature_tbp)], bins='auto')\n",
    "        axes[row, col].set_title('Feature: {}'.format(feature_id))\n",
    "        feature_id += 1\n",
    "    \n",
    "    \n",
    "fig.set_size_inches(19.5, 25)\n"
   ]
  },
  {
   "cell_type": "code",
   "execution_count": null,
   "metadata": {},
   "outputs": [],
   "source": [
    "\"\"\"enc = preprocessing.OneHotEncoder(handle_unknown='ignore')\n",
    "enc.fit(coughs.loc[:,'Expert':])\n",
    "enc.transform(coughs.loc[:,'Expert':])\"\"\"\n",
    "# Categorical features handling... Not complete"
   ]
  },
  {
   "cell_type": "code",
   "execution_count": null,
   "metadata": {},
   "outputs": [],
   "source": [
    "### Split data\n",
    "\n",
    "from sklearn.model_selection import train_test_split\n",
    "X_train, X_test, y_train, y_test = train_test_split(coughs_std, labels, test_size=0.2)"
   ]
  },
  {
   "cell_type": "code",
   "execution_count": null,
   "metadata": {},
   "outputs": [],
   "source": [
    "### Logistic regression\n",
    "\n",
    "from sklearn.linear_model import LogisticRegression\n",
    "\n",
    "LR = LogisticRegression(random_state=0, max_iter=500).fit(X_train, y_train.to_numpy().squeeze())\n",
    "predLR = LR.predict(X_test)\n",
    "\n",
    "accuracyLR = LR.score(X_test, y_test.to_numpy().squeeze())\n",
    "\n",
    "aucLR = roc_auc_score(y_test, predLR)\n",
    "print(accuracyLR, aucLR)\n"
   ]
  },
  {
   "cell_type": "code",
   "execution_count": null,
   "metadata": {},
   "outputs": [],
   "source": [
    "### Support Vector Machine Classifier\n",
    "\n",
    "from sklearn.svm import SVC\n",
    "\n",
    "SVM = SVC().fit(X_train, y_train.to_numpy().squeeze())\n",
    "predSVM = SVM.predict(X_test)\n",
    "\n",
    "accuracySVM = SVM.score(X_test, y_test.to_numpy().squeeze())\n",
    "\n",
    "aucSVM = roc_auc_score(y_test, predSVM)\n",
    "print(accuracySVM, aucSVM)"
   ]
  },
  {
   "cell_type": "code",
   "execution_count": null,
   "metadata": {},
   "outputs": [],
   "source": [
    "### Linear Discriminant Analysis\n",
    "\n",
    "from sklearn.discriminant_analysis import LinearDiscriminantAnalysis\n",
    "\n",
    "LDA = LinearDiscriminantAnalysis().fit(X_train, y_train.to_numpy().squeeze())\n",
    "predLDA = LDA.predict(X_test)\n",
    "\n",
    "accuracyLDA = LDA.score(X_test, y_test.to_numpy().squeeze())\n",
    "aucLDA = roc_auc_score(y_test, predLDA)\n",
    "print(accuracyLDA, aucLDA)"
   ]
  },
  {
   "cell_type": "code",
   "execution_count": null,
   "metadata": {},
   "outputs": [],
   "source": [
    "### K-Neighbors Classifier\n",
    "\n",
    "from sklearn.neighbors import KNeighborsClassifier\n",
    "\n",
    "KNN = KNeighborsClassifier(n_neighbors=15, weights='uniform').fit(X_train, y_train.to_numpy().squeeze())\n",
    "predKNN = KNN.predict(X_test)\n",
    "accuracyKNN = KNN.score(X_test, y_test.to_numpy().squeeze())\n",
    "aucKNN = roc_auc_score(y_test, predKNN)\n",
    "print(accuracyKNN, aucKNN)"
   ]
  },
  {
   "cell_type": "code",
   "execution_count": null,
   "metadata": {},
   "outputs": [],
   "source": [
    "### Gaussian Naive Bayes\n",
    "\n",
    "from sklearn.naive_bayes import GaussianNB\n",
    "\n",
    "GNB = GaussianNB().fit(X_train, y_train.to_numpy().squeeze())\n",
    "predGNB = GNB.predict(X_test)\n",
    "accuracyGNB = GNB.score(X_test, y_test.to_numpy().squeeze())\n",
    "aucGNB = roc_auc_score(y_test, predGNB)\n",
    "print(accuracyGNB, aucGNB)"
   ]
  },
  {
   "cell_type": "code",
   "execution_count": null,
   "metadata": {},
   "outputs": [],
   "source": [
    "### Decision Tree Classifier\n",
    "\n",
    "from sklearn.tree import DecisionTreeClassifier\n",
    "\n",
    "DTC = GaussianNB().fit(X_train, y_train.to_numpy().squeeze())\n",
    "predDTC = DTC.predict(X_test)\n",
    "accuracyDTC = DTC.score(X_test, y_test.to_numpy().squeeze())\n",
    "aucDTC = roc_auc_score(y_test, predDTC)\n",
    "print(accuracyDTC, aucDTC)"
   ]
  },
  {
   "cell_type": "code",
   "execution_count": null,
   "metadata": {},
   "outputs": [],
   "source": [
    "### Random Forest Classifier\n",
    "\n",
    "from sklearn.ensemble import RandomForestClassifier\n",
    "\n",
    "RFC = RandomForestClassifier() # parameters signification ?\n",
    "RFC.fit(X_train, y_train.to_numpy().squeeze())\n",
    "predRFC = RFC.predict(X_test)\n",
    "accuracyRFC = RFC.score(X_test, y_test.to_numpy().squeeze())\n",
    "aucRFC = roc_auc_score(y_test, predRFC) \n",
    "\n",
    "print(accuracyRFC, aucRFC)"
   ]
  },
  {
   "cell_type": "code",
   "execution_count": null,
   "metadata": {},
   "outputs": [],
   "source": [
    "### XGBoost --> documentation on the web... need to investigate."
   ]
  }
 ],
 "metadata": {
  "kernelspec": {
   "display_name": "Python 3",
   "language": "python",
   "name": "python3"
  },
  "language_info": {
   "codemirror_mode": {
    "name": "ipython",
    "version": 3
   },
   "file_extension": ".py",
   "mimetype": "text/x-python",
   "name": "python",
   "nbconvert_exporter": "python",
   "pygments_lexer": "ipython3",
   "version": "3.8.3"
  }
 },
 "nbformat": 4,
 "nbformat_minor": 4
}
